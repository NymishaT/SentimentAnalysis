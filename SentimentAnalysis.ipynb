{
 "cells": [
  {
   "cell_type": "code",
   "execution_count": 2,
   "id": "b6198696",
   "metadata": {},
   "outputs": [],
   "source": [
    "#importing modules\n",
    "import re\n",
    "import numpy as np\n",
    "import pandas as pd\n",
    "import seaborn as sns\n",
    "from IPython.display import display\n",
    "\n",
    "#natural language toolkit\n",
    "import nltk\n",
    "from nltk.corpus import stopwords\n",
    "from nltk.tokenize import word_tokenize\n",
    "from nltk.tokenize import RegexpTokenizer\n",
    "from nltk.stem.porter import PorterStemmer\n",
    "\n",
    "#scikit-learn\n",
    "from sklearn.naive_bayes import MultinomialNB\n",
    "from sklearn.model_selection import train_test_split\n",
    "from sklearn.feature_extraction.text import CountVectorizer\n",
    "from sklearn.metrics import confusion_matrix, accuracy_score\n"
   ]
  },
  {
   "cell_type": "code",
   "execution_count": 9,
   "id": "18349f83",
   "metadata": {},
   "outputs": [
    {
     "name": "stdout",
     "output_type": "stream",
     "text": [
      "(1382, 2)\n",
      "<class 'pandas.core.frame.DataFrame'>\n"
     ]
    }
   ],
   "source": [
    "dataset=pd.read_csv(\"view.csv\",delimiter=',')\n",
    "print(dataset.shape)\n",
    "print(type(dataset))\n",
    "#assigning the PorterStemmer function\n",
    "ps = PorterStemmer()\n"
   ]
  },
  {
   "cell_type": "code",
   "execution_count": 3,
   "id": "d5ae0662",
   "metadata": {},
   "outputs": [],
   "source": [
    "# The below code demonstrates that words and punctuation, which are unlikely to affect sentiment,\n",
    "# have been excluded from the sentiment classifier AND that the remaining words are not being handled \n",
    "# in a case sensitive way"
   ]
  },
  {
   "cell_type": "code",
   "execution_count": 5,
   "id": "7bf5e3fa",
   "metadata": {},
   "outputs": [],
   "source": [
    "def cleanup(inp):\n",
    "    \n",
    "    text = inp.lower()\n",
    "    print(\"Lowwer text:\\n\",text)\n",
    "    \n",
    "    token = RegexpTokenizer(r'[a-z]+')\n",
    "    print(\"\\n tokenized:\",token)\n",
    "    \n",
    "    tokenizing=token.tokenize(text)\n",
    "    word_list = [ps.stem(word) for word in tokenizing if word not in set(stopwords.words('english'))]\n",
    "    final_text = \" \".join(word_list)\n",
    "    \n",
    "    return final_text"
   ]
  },
  {
   "cell_type": "code",
   "execution_count": 5,
   "id": "139d16fb",
   "metadata": {},
   "outputs": [
    {
     "name": "stdout",
     "output_type": "stream",
     "text": [
      "Initial text:\n",
      "  In 1992 we bought a new Taurus and we really loved it  So in 1999 we decided to try a new Taurus  I did not care for the style of the newer version  but bought it anyway I do not like the new car half as much as i liked our other one  Thee dash is much to deep and takes up a lot of room  I do not find the seats as comfortable and the way the sides stick out further than the strip that should protect your card from denting It drives nice and has good pick up  But you can not see the hood at all from the driver seat and judging and parking is difficult  It has a very small gas tank I would not buy a Taurus if I had it to do over  I would rather have my 1992 back  I don t think the style is as nice as the the 1992  and it was a mistake to change the style  In less than a month we had a dead battery and a flat tire  \n",
      "\n",
      "Modified text:\n",
      " bought new tauru realli love decid tri new tauru care style newer version bought anyway like new car half much like one thee dash much deep take lot room find seat comfort way side stick strip protect card dent drive nice good pick see hood driver seat judg park difficult small ga tank would buy tauru would rather back think style nice mistak chang style less month dead batteri flat tire\n"
     ]
    }
   ],
   "source": [
    "example=dataset['Review'][0]\n",
    "\n",
    "cleaned_text=cleanup(example)\n",
    "\n",
    "print(\"Initial text:\\n\",example,\"\\n\")\n",
    "\n",
    "print(\"Modified text:\\n\",cleaned_text)\n"
   ]
  },
  {
   "cell_type": "code",
   "execution_count": 6,
   "id": "c3d71d74",
   "metadata": {},
   "outputs": [
    {
     "name": "stdout",
     "output_type": "stream",
     "text": [
      "['close', 'closing', 'closed', 'closes']->['close', 'close', 'close', 'close'] \n",
      "\n",
      "['trick', 'tricked', 'tricking', 'tricks']->['trick', 'trick', 'trick', 'trick'] \n",
      "\n",
      "['program', 'programs', 'programming', 'programers']->['program', 'program', 'program', 'program'] \n",
      "\n"
     ]
    }
   ],
   "source": [
    "#creating 3 examples of words that have the same stem\n",
    "word1_list = ['close', 'closing', 'closed', 'closes']\n",
    "word2_list = ['trick', 'tricked', 'tricking', 'tricks']\n",
    "word3_list = ['program', 'programs', 'programming', 'programers']\n",
    "\n",
    "#going through all 3 of the lists and adding the stem of each word to a list\n",
    "stem1_list = [ps.stem(word) for word in word1_list]\n",
    "stem2_list = [ps.stem(word) for word in word2_list]\n",
    "stem3_list = [ps.stem(word) for word in word3_list]\n",
    "\n",
    "#comparing original word list to stems list\n",
    "print(str(word1_list) + \"->\" + str(stem1_list),\"\\n\")\n",
    "print(str(word2_list) + '->' + str(stem2_list),\"\\n\")\n",
    "print(str(word3_list) + '->' + str(stem3_list),\"\\n\")\n"
   ]
  },
  {
   "cell_type": "code",
   "execution_count": 7,
   "id": "b3f3bda9",
   "metadata": {},
   "outputs": [],
   "source": [
    "#list to store the processed reviews\n",
    "data = []\n",
    "\n",
    "#going through each review in the dataframe\n",
    "for i in range(dataset.shape[0]):\n",
    "    #selecting review in pandas DataFrame\n",
    "    text = dataset.iloc[i, 1]\n",
    "    #clean review using cleaning function\n",
    "    cleaned_text = cleanup(text)\n",
    "    #adding cleaned review to a list\n",
    "    data.append(cleaned_text)"
   ]
  },
  {
   "cell_type": "code",
   "execution_count": 8,
   "id": "8034d828",
   "metadata": {},
   "outputs": [],
   "source": [
    "# Bag of words Vector Creation\n",
    "# The reviews are cleaned using the cleanup function and then a vector of tokens\n",
    "# for each word is generated. The words found, alongside the number of time they occur in\n",
    "# the reveiew is also shown.\n"
   ]
  },
  {
   "cell_type": "code",
   "execution_count": 9,
   "id": "08f4cd82",
   "metadata": {},
   "outputs": [
    {
     "name": "stdout",
     "output_type": "stream",
     "text": [
      "The count vector for review 1 is:\n"
     ]
    },
    {
     "data": {
      "text/html": [
       "<div>\n",
       "<style scoped>\n",
       "    .dataframe tbody tr th:only-of-type {\n",
       "        vertical-align: middle;\n",
       "    }\n",
       "\n",
       "    .dataframe tbody tr th {\n",
       "        vertical-align: top;\n",
       "    }\n",
       "\n",
       "    .dataframe thead th {\n",
       "        text-align: right;\n",
       "    }\n",
       "</style>\n",
       "<table border=\"1\" class=\"dataframe\">\n",
       "  <thead>\n",
       "    <tr style=\"text-align: right;\">\n",
       "      <th></th>\n",
       "      <th>anyway</th>\n",
       "      <th>back</th>\n",
       "      <th>batteri</th>\n",
       "      <th>bought</th>\n",
       "      <th>buy</th>\n",
       "      <th>car</th>\n",
       "      <th>card</th>\n",
       "      <th>care</th>\n",
       "      <th>chang</th>\n",
       "      <th>comfort</th>\n",
       "      <th>...</th>\n",
       "      <th>take</th>\n",
       "      <th>tank</th>\n",
       "      <th>tauru</th>\n",
       "      <th>thee</th>\n",
       "      <th>think</th>\n",
       "      <th>tire</th>\n",
       "      <th>tri</th>\n",
       "      <th>version</th>\n",
       "      <th>way</th>\n",
       "      <th>would</th>\n",
       "    </tr>\n",
       "  </thead>\n",
       "  <tbody>\n",
       "    <tr>\n",
       "      <th>0</th>\n",
       "      <td>1</td>\n",
       "      <td>1</td>\n",
       "      <td>1</td>\n",
       "      <td>2</td>\n",
       "      <td>1</td>\n",
       "      <td>1</td>\n",
       "      <td>1</td>\n",
       "      <td>1</td>\n",
       "      <td>1</td>\n",
       "      <td>1</td>\n",
       "      <td>...</td>\n",
       "      <td>1</td>\n",
       "      <td>1</td>\n",
       "      <td>3</td>\n",
       "      <td>1</td>\n",
       "      <td>1</td>\n",
       "      <td>1</td>\n",
       "      <td>1</td>\n",
       "      <td>1</td>\n",
       "      <td>1</td>\n",
       "      <td>2</td>\n",
       "    </tr>\n",
       "  </tbody>\n",
       "</table>\n",
       "<p>1 rows × 59 columns</p>\n",
       "</div>"
      ],
      "text/plain": [
       "   anyway  back  batteri  bought  buy  car  card  care  chang  comfort  ...  \\\n",
       "0       1     1        1       2    1    1     1     1      1        1  ...   \n",
       "\n",
       "   take  tank  tauru  thee  think  tire  tri  version  way  would  \n",
       "0     1     1      3     1      1     1    1        1    1      2  \n",
       "\n",
       "[1 rows x 59 columns]"
      ]
     },
     "metadata": {},
     "output_type": "display_data"
    },
    {
     "name": "stdout",
     "output_type": "stream",
     "text": [
      "The count vector for review 2 is:\n"
     ]
    },
    {
     "data": {
      "text/html": [
       "<div>\n",
       "<style scoped>\n",
       "    .dataframe tbody tr th:only-of-type {\n",
       "        vertical-align: middle;\n",
       "    }\n",
       "\n",
       "    .dataframe tbody tr th {\n",
       "        vertical-align: top;\n",
       "    }\n",
       "\n",
       "    .dataframe thead th {\n",
       "        text-align: right;\n",
       "    }\n",
       "</style>\n",
       "<table border=\"1\" class=\"dataframe\">\n",
       "  <thead>\n",
       "    <tr style=\"text-align: right;\">\n",
       "      <th></th>\n",
       "      <th>allow</th>\n",
       "      <th>anoth</th>\n",
       "      <th>anyon</th>\n",
       "      <th>area</th>\n",
       "      <th>basi</th>\n",
       "      <th>better</th>\n",
       "      <th>breez</th>\n",
       "      <th>busi</th>\n",
       "      <th>buy</th>\n",
       "      <th>car</th>\n",
       "      <th>...</th>\n",
       "      <th>uncomfort</th>\n",
       "      <th>unnecessarili</th>\n",
       "      <th>us</th>\n",
       "      <th>usag</th>\n",
       "      <th>usual</th>\n",
       "      <th>weigh</th>\n",
       "      <th>well</th>\n",
       "      <th>went</th>\n",
       "      <th>work</th>\n",
       "      <th>would</th>\n",
       "    </tr>\n",
       "  </thead>\n",
       "  <tbody>\n",
       "    <tr>\n",
       "      <th>0</th>\n",
       "      <td>1</td>\n",
       "      <td>1</td>\n",
       "      <td>1</td>\n",
       "      <td>1</td>\n",
       "      <td>1</td>\n",
       "      <td>1</td>\n",
       "      <td>1</td>\n",
       "      <td>2</td>\n",
       "      <td>1</td>\n",
       "      <td>7</td>\n",
       "      <td>...</td>\n",
       "      <td>4</td>\n",
       "      <td>1</td>\n",
       "      <td>3</td>\n",
       "      <td>1</td>\n",
       "      <td>1</td>\n",
       "      <td>1</td>\n",
       "      <td>1</td>\n",
       "      <td>1</td>\n",
       "      <td>1</td>\n",
       "      <td>2</td>\n",
       "    </tr>\n",
       "  </tbody>\n",
       "</table>\n",
       "<p>1 rows × 89 columns</p>\n",
       "</div>"
      ],
      "text/plain": [
       "   allow  anoth  anyon  area  basi  better  breez  busi  buy  car  ...  \\\n",
       "0      1      1      1     1     1       1      1     2    1    7  ...   \n",
       "\n",
       "   uncomfort  unnecessarili  us  usag  usual  weigh  well  went  work  would  \n",
       "0          4              1   3     1      1      1     1     1     1      2  \n",
       "\n",
       "[1 rows x 89 columns]"
      ]
     },
     "metadata": {},
     "output_type": "display_data"
    },
    {
     "name": "stdout",
     "output_type": "stream",
     "text": [
      "The count vector for review 3 is:\n"
     ]
    },
    {
     "data": {
      "text/html": [
       "<div>\n",
       "<style scoped>\n",
       "    .dataframe tbody tr th:only-of-type {\n",
       "        vertical-align: middle;\n",
       "    }\n",
       "\n",
       "    .dataframe tbody tr th {\n",
       "        vertical-align: top;\n",
       "    }\n",
       "\n",
       "    .dataframe thead th {\n",
       "        text-align: right;\n",
       "    }\n",
       "</style>\n",
       "<table border=\"1\" class=\"dataframe\">\n",
       "  <thead>\n",
       "    <tr style=\"text-align: right;\">\n",
       "      <th></th>\n",
       "      <th>addit</th>\n",
       "      <th>air</th>\n",
       "      <th>also</th>\n",
       "      <th>approxim</th>\n",
       "      <th>back</th>\n",
       "      <th>balanc</th>\n",
       "      <th>began</th>\n",
       "      <th>belt</th>\n",
       "      <th>bought</th>\n",
       "      <th>broke</th>\n",
       "      <th>...</th>\n",
       "      <th>valv</th>\n",
       "      <th>vehicl</th>\n",
       "      <th>vibrat</th>\n",
       "      <th>week</th>\n",
       "      <th>went</th>\n",
       "      <th>within</th>\n",
       "      <th>work</th>\n",
       "      <th>wrong</th>\n",
       "      <th>yard</th>\n",
       "      <th>year</th>\n",
       "    </tr>\n",
       "  </thead>\n",
       "  <tbody>\n",
       "    <tr>\n",
       "      <th>0</th>\n",
       "      <td>1</td>\n",
       "      <td>3</td>\n",
       "      <td>1</td>\n",
       "      <td>1</td>\n",
       "      <td>1</td>\n",
       "      <td>1</td>\n",
       "      <td>1</td>\n",
       "      <td>4</td>\n",
       "      <td>1</td>\n",
       "      <td>1</td>\n",
       "      <td>...</td>\n",
       "      <td>1</td>\n",
       "      <td>4</td>\n",
       "      <td>1</td>\n",
       "      <td>5</td>\n",
       "      <td>2</td>\n",
       "      <td>3</td>\n",
       "      <td>1</td>\n",
       "      <td>1</td>\n",
       "      <td>1</td>\n",
       "      <td>1</td>\n",
       "    </tr>\n",
       "  </tbody>\n",
       "</table>\n",
       "<p>1 rows × 121 columns</p>\n",
       "</div>"
      ],
      "text/plain": [
       "   addit  air  also  approxim  back  balanc  began  belt  bought  broke  ...  \\\n",
       "0      1    3     1         1     1       1      1     4       1      1  ...   \n",
       "\n",
       "   valv  vehicl  vibrat  week  went  within  work  wrong  yard  year  \n",
       "0     1       4       1     5     2       3     1      1     1     1  \n",
       "\n",
       "[1 rows x 121 columns]"
      ]
     },
     "metadata": {},
     "output_type": "display_data"
    }
   ],
   "source": [
    "#going through first 3 reviews in the dataset\n",
    "for i in range(3):\n",
    "    text = dataset['Review'][i]\n",
    "    cleantxt = cleanup(text)\n",
    "    \n",
    "    #converting text into a vector of token counts\n",
    "    cv = CountVectorizer()\n",
    "    text_counts = cv.fit_transform([cleantxt])\n",
    "   \n",
    "    DF = pd.DataFrame(text_counts.A, columns = cv.get_feature_names())\n",
    "    print(\"The count vector for review \" + str(i+1) + ' is:')\n",
    "    display(DF)\n",
    "    \n"
   ]
  },
  {
   "cell_type": "code",
   "execution_count": 10,
   "id": "66e72a60",
   "metadata": {},
   "outputs": [],
   "source": [
    "def display_matrix(matrix):\n",
    "    '''Function for showing the confusion matrix of a classifier'''\n",
    "    \n",
    "    #list of results of the classifer\n",
    "    names = ['True Neg', 'False Pos', 'False Neg', 'True Pos']\n",
    "    #finding number of each result\n",
    "    counts = [\"{0:0.0f}\".format(value) for value in matrix.flatten()]\n",
    "    #finding percentage weighting of each result\n",
    "    percentages = [\"{0:.2%}\".format(value) for value in (matrix.flatten() / np.sum(matrix))]\n",
    "    \n",
    "    #creating a list of all values above\n",
    "    labels = [f\"{v1}\\n{v2}\\n{v3}\" for v1, v2, v3 in zip (names, counts, percentages)]\n",
    "    labels = np.asarray(labels).reshape(2,2)\n",
    "    \n",
    "    #creating a heatmap and adding annotations to it \n",
    "    visualisation = sns.heatmap(matrix, annot = labels, fmt = '', cmap = 'Blues')\n",
    "    \n",
    "    return visualisation"
   ]
  },
  {
   "cell_type": "code",
   "execution_count": 11,
   "id": "c63e9e45",
   "metadata": {},
   "outputs": [],
   "source": [
    "# Splitting data for training and testing 80/20\n",
    "# This is done via the train_test_split method in scikit-learn\n",
    "# The test_size parameter below when given in float value represents the proportion of data that it takes,\n",
    "# hence 0.2 represents that 20 percent of the data is taken as test\n",
    "\n",
    "# To show that only the training data has been used up to the point where the model has been trained,\n",
    "# each classifier will be run again on the data it was trained on. The accuracy of this should be\n",
    "# significantly higher than the accuracy of the classifier on the test data due to it \"seeing\" this data before. \n",
    "# This will be done for both task 1 and task 2 to show that both classifiers have only been trained on \n",
    "# the training data.\n",
    "#And also the length of both X_train and Y_train is shown using print statements.\n",
    "\n",
    "# To prevent issues where the classifier encounters words that appear in the test split but have not \n",
    "# been encountered in the training split, Laplace smoothing is applied. This is where the counts of \n",
    "# every words in the test is added by 1. This prevents the issue of having a probability of 0 where a \n",
    "# word hasn't been encountered before. Laplace smoothing is automatically applied in the MultinomialNB \n",
    "# method so there is no need to add it explicitly myself."
   ]
  },
  {
   "cell_type": "code",
   "execution_count": 12,
   "id": "2e1e053a",
   "metadata": {},
   "outputs": [
    {
     "name": "stdout",
     "output_type": "stream",
     "text": [
      "The reviews in the training split are: 1105.\n",
      "The reviews in the test split are: 277.\n"
     ]
    }
   ],
   "source": [
    "#converting all reviews into a vector of token counts using unigrams\n",
    "cv = CountVectorizer(ngram_range = (1,1))\n",
    "\n",
    "X = cv.fit_transform(data).toarray()\n",
    "Y = dataset.iloc[:, 0]\n",
    "\n",
    "#creating training and training data\n",
    "X_train, X_test, Y_train, Y_test = train_test_split(X, Y, test_size = 0.2, random_state = 1091)\n",
    "\n",
    "#displaying number of reviews being trained and tested on\n",
    "print('The reviews in the training split are: ' + str(len(X_train)) + '.')\n",
    "print('The reviews in the test split are: ' + str(len(X_test)) + '.')"
   ]
  },
  {
   "cell_type": "code",
   "execution_count": 13,
   "id": "bcbf6802",
   "metadata": {},
   "outputs": [
    {
     "name": "stdout",
     "output_type": "stream",
     "text": [
      "The length of X_train is: 1105.\n",
      "\n",
      "The length of Y_train is: 1105.\n",
      "\n",
      "Accuracy for the Task 1 classifier on the training data is: 91.76% \n",
      "\n",
      "Accuracy for the Task 1 classifier on the test data is: 80.51% \n",
      "\n"
     ]
    }
   ],
   "source": [
    "#using Multinomial Naive Bayes classifier on training data from scikit-learn\n",
    "classifier = MultinomialNB()\n",
    "classifier.fit(X_train, Y_train)\n",
    "print('The length of X_train is: ' + str(len(X_train)) + '.\\n')\n",
    "print('The length of Y_train is: ' + str(len(Y_train)) + '.\\n')\n",
    "\n",
    "#predict sentiment for test data\n",
    "Y_pred = classifier.predict(X_test)\n",
    "#get confusion matrix and accuracy for prediction\n",
    "cf_matrix = confusion_matrix(Y_test, Y_pred)\n",
    "test_accuracy = accuracy_score(Y_test, Y_pred)\n",
    "\n",
    "#showing the result of the classifier being used on the training data.\n",
    "training_accuracy = classifier.score(X_train, Y_train)\n",
    "print('Accuracy for the Task 1 classifier on the training data is: %.2f%% \\n' % (training_accuracy * 100.0))\n",
    "\n",
    "#display accuracy of the classifer\n",
    "print('Accuracy for the Task 1 classifier on the test data is: %.2f%% \\n' % (test_accuracy * 100.0))"
   ]
  },
  {
   "cell_type": "code",
   "execution_count": 14,
   "id": "382202b3",
   "metadata": {},
   "outputs": [
    {
     "name": "stdout",
     "output_type": "stream",
     "text": [
      "The confusion matrix for the Task 1 classifier is:\n"
     ]
    },
    {
     "data": {
      "text/plain": [
       "<AxesSubplot:>"
      ]
     },
     "execution_count": 14,
     "metadata": {},
     "output_type": "execute_result"
    },
    {
     "data": {
      "image/png": "[encoded data removed]",
      "text/plain": [
       "<Figure size 432x288 with 2 Axes>"
      ]
     },
     "metadata": {
      "needs_background": "light"
     },
     "output_type": "display_data"
    }
   ],
   "source": [
    "#display confusion matrix\n",
    "print('The confusion matrix for the Task 1 classifier is:')\n",
    "display_matrix(cf_matrix)"
   ]
  },
  {
   "cell_type": "code",
   "execution_count": 15,
   "id": "165a6c13",
   "metadata": {},
   "outputs": [],
   "source": [
    "# #TASK 2\n",
    "# #Improving the solution of task 1, for this im going to follow an approach of using both unigrams and bigrams.\n",
    "# In Task 1, the solution only used unigrams in the text classification. This method involved only looking at \n",
    "# each word individually instead of multiple words at once. For task 2, instead of using unigrams \n",
    "# (which only looks at the individual word), I will be using bigrams as well as unigrams. \n",
    "# Unigrams has one major issue in sentiment analysis. For example, in the case 'I do not love chocolates',\n",
    "# a classifier trained on unigrams would state that this sentence would have a positive sentiment\n",
    "# due to the word 'love' being so strong in sentiment. It ignores the 'not' as it is only looking at \n",
    "# the words on an individual basis. However, on a classifier that was trained using bigrams would state \n",
    "# that this sentence has a negative sentiment. This is due to it also looking at the words in the sentence \n",
    "# in pairs as well as individually. It would see 'not love' and understand that this is a negative response\n",
    "# because of the negation word ('not') appearing before a positive word ('love').\n",
    "\n",
    "# For my case, it would be the issue of reviews that might have had a negation word before a positive word\n",
    "# would have been classified incorrectly as positive instead of negative and vice versa. Using bigrams \n",
    "# along with unigrams would prevent this issue and the expected result would be an increase in the\n",
    "# accuracy of the classifier and a reduction in the number False Negatives and False Positives in the \n",
    "# confusion matrix.\n",
    "\n",
    "# References: \n",
    "# [1] Bekkerman, R., Allan, J.: Using bigrams in text categorization. Technical report, University of Massachusetts (2003) www.cs.umass.edu/~ronb/papers/bigrams.pdf\n",
    "# [2] Caropreso, M.F., Matwin, S., Sebastiani, F.: A learner-independent evaluation of the usefulness of statistical phrases for automated text categorization. In: Text databases & document management: theory & practice. (2001) 78–102"
   ]
  },
  {
   "cell_type": "code",
   "execution_count": 16,
   "id": "c89ac5e3",
   "metadata": {},
   "outputs": [
    {
     "name": "stdout",
     "output_type": "stream",
     "text": [
      "Accuracy for the Task 2 classifier on the training data is: 100.00% \n",
      "\n",
      "Accuracy for the Task 2 classifier on the test data is: 81.95% \n",
      "\n"
     ]
    }
   ],
   "source": [
    "#in order to implement bigrams, the only change needed is to define the ngram_range parameter in CountVectorizer\n",
    "#when it hasn't been specified, the default value is ngram_range = (1,1) which states to only\n",
    "#look at each word (i have anyway specified it above just to make it more clear) individually\n",
    "#to use bigrams as well as unigrams, we can specify the ngram_range = (1,2) states that unigrams (1-gram)\n",
    "# as well as bigrams (2-gram) will be used and the rest of the code is the same as task 1\n",
    "cv2 = CountVectorizer(ngram_range=(1,2))\n",
    "\n",
    "X2 = cv2.fit_transform(data).toarray()\n",
    "Y2 = dataset.iloc[:, 0]\n",
    "\n",
    "#create another set of training and test data\n",
    "X2_train, X2_test, Y2_train, Y2_test = train_test_split(X2, Y2, test_size = 0.2, random_state = 3)\n",
    "\n",
    "#using Multinomial Naive Bayes classifier on training data\n",
    "classifier2 = MultinomialNB()\n",
    "classifier2.fit(X2_train, Y2_train)\n",
    "\n",
    "#predict new sentiment for test data\n",
    "Y2_pred = classifier2.predict(X2_test)\n",
    "\n",
    "#get new confusion matrix and accuracy for prediction\n",
    "cf_matrix2 = confusion_matrix(Y2_test, Y2_pred)\n",
    "test_accuracy2 = accuracy_score(Y2_test, Y2_pred)\n",
    "\n",
    "#showing the result of the classifier being used on the training data.\n",
    "training_accuracy2 = classifier2.score(X2_train, Y2_train)\n",
    "print('Accuracy for the Task 2 classifier on the training data is: %.2f%% \\n' % (training_accuracy2 * 100.0))\n",
    "print('Accuracy for the Task 2 classifier on the test data is: %.2f%% \\n' % (test_accuracy2 * 100.0))\n"
   ]
  },
  {
   "cell_type": "code",
   "execution_count": 17,
   "id": "770d5b63",
   "metadata": {},
   "outputs": [
    {
     "name": "stdout",
     "output_type": "stream",
     "text": [
      "The confusion matrix for the Task 2 classifier is:\n"
     ]
    },
    {
     "data": {
      "text/plain": [
       "<AxesSubplot:>"
      ]
     },
     "execution_count": 17,
     "metadata": {},
     "output_type": "execute_result"
    },
    {
     "data": {
      "image/png": "[encoded data removed]",
      "text/plain": [
       "<Figure size 432x288 with 2 Axes>"
      ]
     },
     "metadata": {
      "needs_background": "light"
     },
     "output_type": "display_data"
    }
   ],
   "source": [
    "#display confusion matrix\n",
    "print('The confusion matrix for the Task 2 classifier is:')\n",
    "display_matrix(cf_matrix2)"
   ]
  },
  {
   "cell_type": "code",
   "execution_count": 18,
   "id": "2e8db579",
   "metadata": {},
   "outputs": [],
   "source": [
    "# Comparison of Task 2 Against Task 1:\n",
    "\n",
    "# The solution implemented in task 2 is an improvement than the solution in task 1. \n",
    "# This is seen by an increase in the accuracy of the classifier going up by roughly 1.4%. (Firstly, it can be \n",
    "# seen that the second classifier has managed to predict all of the sentiments correctly of the training \n",
    "# reviews)\n",
    "\n",
    "# When comparing the confusion matrices against each other, the expected improvements can be seen,\n",
    "# from the number of False Positives (decreased by 3) and False negatives (decreased by 1) going down \n",
    "# (and as a result the number of True Negatives and True Positives going up). The reason this improvement\n",
    "# can be seen was most likely due to the issue that was stated earlier not occuring (where a positive word \n",
    "# could have a negative word in front changing the meaning). A couple of the reviews that were flagged as \n",
    "# positive or negative could've had this sort of language structure in them and hence they were able to be \n",
    "# accurately identified with the improved solution.\n",
    "\n"
   ]
  }
 ],
 "metadata": {
  "kernelspec": {
   "display_name": "Python 3",
   "language": "python",
   "name": "python3"
  },
  "language_info": {
   "codemirror_mode": {
    "name": "ipython",
    "version": 3
   },
   "file_extension": ".py",
   "mimetype": "text/x-python",
   "name": "python",
   "nbconvert_exporter": "python",
   "pygments_lexer": "ipython3",
   "version": "3.8.8"
  }
 },
 "nbformat": 4,
 "nbformat_minor": 5
}
